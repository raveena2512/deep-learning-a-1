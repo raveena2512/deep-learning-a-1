{
  "metadata": {
    "kernelspec": {
      "language": "python",
      "display_name": "Python 3",
      "name": "python3"
    },
    "language_info": {
      "name": "python",
      "version": "3.7.6",
      "mimetype": "text/x-python",
      "codemirror_mode": {
        "name": "ipython",
        "version": 3
      },
      "pygments_lexer": "ipython3",
      "nbconvert_exporter": "python",
      "file_extension": ".py"
    },
    "colab": {
      "name": "simple-mnist-nn-from-scratch-numpy-no-tf-keras.ipynb",
      "provenance": []
    },
    "accelerator": "GPU"
  },
  "nbformat_minor": 0,
  "nbformat": 4,
  "cells": [
    {
      "cell_type": "code",
      "source": [
        "!pip install -q kaggle\n",
        "from google.colab import files\n",
        "uploaded= files.upload()"
      ],
      "metadata": {
        "colab": {
          "resources": {
            "http://localhost:8080/nbextensions/google.colab/files.js": {
              "data": "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",
              "ok": true,
              "headers": [
                [
                  "content-type",
                  "application/javascript"
                ]
              ],
              "status": 200,
              "status_text": ""
            }
          },
          "base_uri": "https://localhost:8080/",
          "height": 74
        },
        "id": "Zan1m35rVVUV",
        "outputId": "db8d98eb-e03c-4445-8b6d-1d66fe2d41e1"
      },
      "execution_count": null,
      "outputs": [
        {
          "output_type": "display_data",
          "data": {
            "text/html": [
              "\n",
              "     <input type=\"file\" id=\"files-905ee901-ea93-4328-98da-1cfdd0999c68\" name=\"files[]\" multiple disabled\n",
              "        style=\"border:none\" />\n",
              "     <output id=\"result-905ee901-ea93-4328-98da-1cfdd0999c68\">\n",
              "      Upload widget is only available when the cell has been executed in the\n",
              "      current browser session. Please rerun this cell to enable.\n",
              "      </output>\n",
              "      <script src=\"/nbextensions/google.colab/files.js\"></script> "
            ],
            "text/plain": [
              "<IPython.core.display.HTML object>"
            ]
          },
          "metadata": {}
        },
        {
          "output_type": "stream",
          "name": "stdout",
          "text": [
            "Saving kaggle.json to kaggle.json\n"
          ]
        }
      ]
    },
    {
      "cell_type": "code",
      "source": [
        "! mkdir ~/.kaggle\n",
        "! cp kaggle.json ~/.kaggle/\n",
        "! chmod 600 ~/.kaggle/kaggle.json"
      ],
      "metadata": {
        "id": "XYZXk3WeVkIY"
      },
      "execution_count": null,
      "outputs": []
    },
    {
      "cell_type": "code",
      "source": [
        "!kaggle datasets download -d zalando-research/fashionmnist"
      ],
      "metadata": {
        "colab": {
          "base_uri": "https://localhost:8080/"
        },
        "id": "CZsEln_RVnI1",
        "outputId": "bd4c209a-0f2a-49f0-b518-17cb0a0047ad"
      },
      "execution_count": null,
      "outputs": [
        {
          "output_type": "stream",
          "name": "stdout",
          "text": [
            "Downloading fashionmnist.zip to /content\n",
            "100% 68.8M/68.8M [00:01<00:00, 53.7MB/s]\n",
            "\n"
          ]
        }
      ]
    },
    {
      "cell_type": "code",
      "source": [
        "!unzip /content/fashionmnist.zip"
      ],
      "metadata": {
        "colab": {
          "base_uri": "https://localhost:8080/"
        },
        "id": "XXg6Oi_7Vs8f",
        "outputId": "f64551d6-c0f5-4adb-af0e-437ba7e205b9"
      },
      "execution_count": null,
      "outputs": [
        {
          "output_type": "stream",
          "name": "stdout",
          "text": [
            "Archive:  /content/fashionmnist.zip\n",
            "  inflating: fashion-mnist_test.csv  \n",
            "  inflating: fashion-mnist_train.csv  \n",
            "  inflating: t10k-images-idx3-ubyte  \n",
            "  inflating: t10k-labels-idx1-ubyte  \n",
            "  inflating: train-images-idx3-ubyte  \n",
            "  inflating: train-labels-idx1-ubyte  \n"
          ]
        }
      ]
    },
    {
      "cell_type": "code",
      "source": [
        "import numpy as np\n",
        "import pandas as pd\n",
        "from matplotlib import pyplot as plt\n",
        "\n",
        "data = pd.read_csv('/content/fashion-mnist_train.csv')"
      ],
      "metadata": {
        "_uuid": "8f2839f25d086af736a60e9eeb907d3b93b6e0e5",
        "_cell_guid": "b1076dfc-b9ad-4769-8c92-a6c4dae69d19",
        "execution": {
          "iopub.status.busy": "2022-02-13T09:04:28.649694Z",
          "iopub.execute_input": "2022-02-13T09:04:28.650087Z",
          "iopub.status.idle": "2022-02-13T09:04:28.682503Z",
          "shell.execute_reply.started": "2022-02-13T09:04:28.650016Z",
          "shell.execute_reply": "2022-02-13T09:04:28.680528Z"
        },
        "trusted": true,
        "id": "O47GkePpVOwU"
      },
      "execution_count": null,
      "outputs": []
    },
    {
      "cell_type": "code",
      "source": [
        "data = np.array(data)\n",
        "m, n = data.shape\n",
        "np.random.shuffle(data) # shuffle before splitting into dev and training sets\n",
        "\n",
        "data_dev = data[0:1000].T\n",
        "Y_dev = data_dev[0]\n",
        "X_dev = data_dev[1:n]\n",
        "X_dev = X_dev / 255.\n",
        "\n",
        "data_train = data[1000:m].T\n",
        "Y_train = data_train[0]\n",
        "X_train = data_train[1:n]\n",
        "X_train = X_train / 255.\n",
        "_,m_train = X_train.shape"
      ],
      "metadata": {
        "trusted": true,
        "id": "tsojqqBVVOwV"
      },
      "execution_count": null,
      "outputs": []
    },
    {
      "cell_type": "code",
      "source": [
        "Y_train"
      ],
      "metadata": {
        "trusted": true,
        "colab": {
          "base_uri": "https://localhost:8080/"
        },
        "id": "RTF_KsZOVOwW",
        "outputId": "9a16e683-e443-4e49-a4af-2fa78ce99f77"
      },
      "execution_count": null,
      "outputs": [
        {
          "output_type": "execute_result",
          "data": {
            "text/plain": [
              "array([5, 9, 5, ..., 0, 3, 4])"
            ]
          },
          "metadata": {},
          "execution_count": 7
        }
      ]
    },
    {
      "cell_type": "markdown",
      "source": [
        "Our NN will have a simple two-layer architecture. Input layer $a^{[0]}$ will have 784 units corresponding to the 784 pixels in each 28x28 input image. A hidden layer $a^{[1]}$ will have 10 units with sigmoid activation, and finally our output layer $a^{[2]}$ will have 10 units corresponding to the ten digit classes with softmax activation.\n",
        "\n",
        "**Forward propagation**\n",
        "\n",
        "$$Z^{[1]} = W^{[1]} X + b^{[1]}$$\n",
        "$$A^{[1]} = g_{\\text{sigmoid}}(Z^{[1]}))$$\n",
        "$$Z^{[2]} = W^{[2]} A^{[1]} + b^{[2]}$$\n",
        "$$A^{[2]} = g_{\\text{softmax}}(Z^{[2]})$$\n",
        "\n",
        "**Backward propagation**\n",
        "\n",
        "$$dZ^{[2]} = A^{[2]} - Y$$\n",
        "$$dW^{[2]} = \\frac{1}{m} dZ^{[2]} A^{[1]T}$$\n",
        "$$dB^{[2]} = \\frac{1}{m} \\Sigma {dZ^{[2]}}$$\n",
        "$$dZ^{[1]} = W^{[2]T} dZ^{[2]} .* g^{[1]\\prime} (z^{[1]})$$\n",
        "$$dW^{[1]} = \\frac{1}{m} dZ^{[1]} A^{[0]T}$$\n",
        "$$dB^{[1]} = \\frac{1}{m} \\Sigma {dZ^{[1]}}$$\n",
        "\n",
        "**Parameter updates**\n",
        "\n",
        "$$W^{[2]} := W^{[2]} - \\alpha dW^{[2]}$$\n",
        "$$b^{[2]} := b^{[2]} - \\alpha db^{[2]}$$\n",
        "$$W^{[1]} := W^{[1]} - \\alpha dW^{[1]}$$\n",
        "$$b^{[1]} := b^{[1]} - \\alpha db^{[1]}$$\n",
        "\n",
        "**Vars and shapes**\n",
        "\n",
        "Forward prop\n",
        "\n",
        "- $A^{[0]} = X$: 784 x m\n",
        "- $Z^{[1]} \\sim A^{[1]}$: 10 x m\n",
        "- $W^{[1]}$: 10 x 784 (as $W^{[1]} A^{[0]} \\sim Z^{[1]}$)\n",
        "- $B^{[1]}$: 10 x 1\n",
        "- $Z^{[2]} \\sim A^{[2]}$: 10 x m\n",
        "- $W^{[1]}$: 10 x 10 (as $W^{[2]} A^{[1]} \\sim Z^{[2]}$)\n",
        "- $B^{[2]}$: 10 x 1\n",
        "\n",
        "Backprop\n",
        "\n",
        "- $dZ^{[2]}$: 10 x m ($~A^{[2]}$)\n",
        "- $dW^{[2]}$: 10 x 10\n",
        "- $dB^{[2]}$: 10 x 1\n",
        "- $dZ^{[1]}$: 10 x m ($~A^{[1]}$)\n",
        "- $dW^{[1]}$: 10 x 10\n",
        "- $dB^{[1]}$: 10 x 1"
      ],
      "metadata": {
        "id": "f9Mv47f2VOwW"
      }
    },
    {
      "cell_type": "code",
      "source": [
        "#def init_params():\n",
        "W1 = np.random.randn(10, 784)\n",
        "b1 = np.random.randn(10, 1)\n",
        "W2 = np.random.randn(10, 10)\n",
        "b2 = np.random.randn(10, 1) \n",
        "    #return W1, b1, W2, b2\n",
        "\n",
        "def sigmoid(Z,X):\n",
        "  M= 1/(1+np.exp(-(W1.dot(X) + b1)))\n",
        "  return M\n",
        "\n",
        "def softmax(Z):\n",
        "    A = np.exp(Z) / sum(np.exp(Z))\n",
        "    return A\n",
        "    \n",
        "def forward_prop(W1, b1, W2, b2, X):\n",
        "    Z1 = W1.dot(X) + b1\n",
        "    A1 = sigmoid(Z1,X)\n",
        "    #Z3 = W3.dot(A1) + b3\n",
        "    #A3 = sigmoid(Z3,A1)\n",
        "    Z2 = W2.dot(A1) + b2\n",
        "    A2 = softmax(Z2)\n",
        "    return Z1, A1, Z2, A2\n",
        "\n",
        "def sigmoid_deriv(Z):\n",
        "  M= 1/(1+np.exp(-Z))\n",
        "  return (M*(1-M))\n",
        "\n",
        "def one_hot(Y):\n",
        "    one_hot_Y = np.zeros((Y.size, Y.max() + 1))\n",
        "    one_hot_Y[np.arange(Y.size), Y] = 1\n",
        "    one_hot_Y = one_hot_Y.T\n",
        "    return one_hot_Y\n",
        "\n",
        "def backward_prop(Z1, A1, Z2, A2, W1, W2, X, Y):\n",
        "    one_hot_Y = one_hot(Y)\n",
        "    dZ2 = A2 - one_hot_Y\n",
        "    dW2 = 1 / m * dZ2.dot(A1.T)\n",
        "    db2 = 1 / m * np.sum(dZ2)\n",
        "    dZ1 = W2.T.dot(dZ2) * sigmoid_deriv(Z1)\n",
        "    dW1 = 1 / m * dZ1.dot(X.T)\n",
        "    db1 = 1 / m * np.sum(dZ1)\n",
        "    return dW1, db1, dW2, db2\n",
        "\n",
        "def update_params(W1, b1, W2, b2, dW1, db1, dW2, db2, alpha):\n",
        "    W1 = W1 - alpha * dW1\n",
        "    b1 = b1 - alpha * db1    \n",
        "    W2 = W2 - alpha * dW2  \n",
        "    b2 = b2 - alpha * db2    \n",
        "    return W1, b1, W2, b2"
      ],
      "metadata": {
        "trusted": true,
        "id": "eNF0XZc_VOwX"
      },
      "execution_count": null,
      "outputs": []
    },
    {
      "cell_type": "code",
      "source": [
        "def get_predictions(A2):\n",
        "    return np.argmax(A2, 0)\n",
        "\n",
        "def get_accuracy(predictions, Y):\n",
        "    print(predictions, Y)\n",
        "    return np.sum(predictions == Y) / Y.size\n",
        "\n",
        "def gradient_descent(X, Y, alpha, iterations):\n",
        "    #W1, b1, W2, b2 = init_params()\n",
        "  W1 = np.random.randn(64, 784)\n",
        "  b1 = np.random.randn(64, 1)\n",
        "  W2 = np.random.randn(64,10)\n",
        "  b2 = np.random.randn(10, 1) \n",
        "  #W3= np.random.randn(10,10)\n",
        "  #b3= np.random.randn(10,1)\n",
        "  for i in range(iterations):\n",
        "    Z1, A1, Z2, A2 = forward_prop(W1, b1, W2, b2, X)\n",
        "    dW1, db1, dW2, db2 = backward_prop(Z1, A1, Z2, A2, W1, W2, X, Y)\n",
        "    W1, b1, W2, b2 = update_params(W1, b1, W2, b2, dW1, db1, dW2, db2, alpha)\n",
        "    if i % 10 == 0:\n",
        "      print(\"Iteration: \", i)\n",
        "      predictions = get_predictions(A2)\n",
        "      print(get_accuracy(predictions, Y))\n",
        "  return W1, b1, W2, b2"
      ],
      "metadata": {
        "trusted": true,
        "id": "yRnn2SpTVOwY"
      },
      "execution_count": null,
      "outputs": []
    },
    {
      "cell_type": "code",
      "source": [
        "W1, b1, W2, b2 = gradient_descent(X_train, Y_train, 1.1, 500)"
      ],
      "metadata": {
        "trusted": true,
        "id": "CrNR7CavVOwY"
      },
      "execution_count": null,
      "outputs": []
    },
    {
      "cell_type": "code",
      "source": [
        "def make_predictions(X, W1, b1, W2, b2):\n",
        "    _, _, _, A2 = forward_prop(W1, b1, W2, b2, X)\n",
        "    predictions = get_predictions(A2)\n",
        "    return predictions\n",
        "\n",
        "def test_prediction(index, W1, b1, W2, b2):\n",
        "    current_image = X_train[:, index, None]\n",
        "    prediction = make_predictions(X_train[:, index, None], W1, b1, W2, b2)\n",
        "    label = Y_train[index]\n",
        "    print(\"Prediction: \", prediction)\n",
        "    print(\"Label: \", label)\n",
        "    \n",
        "    current_image = current_image.reshape((28, 28)) * 255\n",
        "    plt.gray()\n",
        "    plt.imshow(current_image, interpolation='nearest')\n",
        "    plt.show()"
      ],
      "metadata": {
        "trusted": true,
        "id": "0inGb16YVOwZ"
      },
      "execution_count": null,
      "outputs": []
    },
    {
      "cell_type": "code",
      "source": [
        "test_prediction(0, W1, b1, W2, b2)\n",
        "test_prediction(1, W1, b1, W2, b2)\n",
        "test_prediction(2, W1, b1, W2, b2)\n",
        "test_prediction(3, W1, b1, W2, b2)"
      ],
      "metadata": {
        "trusted": true,
        "colab": {
          "base_uri": "https://localhost:8080/",
          "height": 1000
        },
        "id": "mhABdrf9VOwZ",
        "outputId": "6815c094-e0b8-427d-84f0-33aa1ef2c3ad"
      },
      "execution_count": null,
      "outputs": [
        {
          "output_type": "stream",
          "name": "stdout",
          "text": [
            "Prediction:  [0]\n",
            "Label:  2\n"
          ]
        },
        {
          "output_type": "display_data",
          "data": {
            "image/png": "[encoded data removed]",
            "text/plain": [
              "<Figure size 432x288 with 1 Axes>"
            ]
          },
          "metadata": {
            "needs_background": "light"
          }
        },
        {
          "output_type": "stream",
          "name": "stdout",
          "text": [
            "Prediction:  [8]\n",
            "Label:  8\n"
          ]
        },
        {
          "output_type": "display_data",
          "data": {
            "image/png": "[encoded data removed]",
            "text/plain": [
              "<Figure size 432x288 with 1 Axes>"
            ]
          },
          "metadata": {
            "needs_background": "light"
          }
        },
        {
          "output_type": "stream",
          "name": "stdout",
          "text": [
            "Prediction:  [7]\n",
            "Label:  7\n"
          ]
        },
        {
          "output_type": "display_data",
          "data": {
            "image/png": "[encoded data removed]",
            "text/plain": [
              "<Figure size 432x288 with 1 Axes>"
            ]
          },
          "metadata": {
            "needs_background": "light"
          }
        },
        {
          "output_type": "stream",
          "name": "stdout",
          "text": [
            "Prediction:  [2]\n",
            "Label:  4\n"
          ]
        },
        {
          "output_type": "display_data",
          "data": {
            "image/png": "[encoded data removed]",
            "text/plain": [
              "<Figure size 432x288 with 1 Axes>"
            ]
          },
          "metadata": {
            "needs_background": "light"
          }
        }
      ]
    },
    {
      "cell_type": "code",
      "source": [
        "dev_predictions = make_predictions(X_dev, W1, b1, W2, b2)\n",
        "get_accuracy(dev_predictions, Y_dev)"
      ],
      "metadata": {
        "trusted": true,
        "colab": {
          "base_uri": "https://localhost:8080/"
        },
        "id": "8d2e33e-VOwa",
        "outputId": "53762801-3a12-490f-bf3f-620f0e80072a"
      },
      "execution_count": null,
      "outputs": [
        {
          "output_type": "stream",
          "name": "stdout",
          "text": [
            "[9 1 2 7 3 1 8 3 9 0 7 0 1 8 3 5 1 4 8 4 5 2 9 2 9 2 9 2 2 3 1 8 5 0 0 3 2\n",
            " 9 8 8 5 2 8 2 8 0 8 3 5 9 1 4 2 1 9 0 4 2 3 1 0 4 3 5 7 1 0 9 0 3 4 3 5 7\n",
            " 8 5 5 3 2 0 0 2 3 5 9 5 4 0 0 0 0 1 4 8 1 5 1 4 1 1 9 4 9 5 1 1 8 1 7 2 8\n",
            " 9 8 6 5 7 4 0 3 6 9 2 1 6 3 7 8 1 4 5 1 8 6 7 0 1 9 0 4 1 2 8 4 8 3 2 0 7\n",
            " 0 4 3 7 9 4 4 2 3 1 8 6 1 3 0 0 3 2 3 0 3 2 1 4 2 7 8 2 6 9 4 2 9 6 2 2 0\n",
            " 9 5 9 3 8 4 7 0 2 8 9 5 6 0 2 8 7 7 4 1 1 7 0 7 2 9 5 0 9 1 6 0 1 8 8 7 3\n",
            " 3 2 5 2 5 3 5 9 9 5 2 8 1 0 0 3 7 3 7 1 3 0 6 0 3 9 5 7 7 4 4 7 8 0 4 1 9\n",
            " 5 7 9 0 2 4 5 2 4 3 3 8 2 6 4 2 8 1 0 9 0 5 1 2 7 3 8 2 0 6 7 9 3 4 1 4 8\n",
            " 4 7 2 7 2 1 3 4 5 8 5 9 0 2 3 6 7 8 2 7 3 1 0 1 8 9 4 0 5 3 7 3 3 9 9 5 6\n",
            " 5 0 6 3 9 2 9 4 4 5 1 0 9 0 8 8 4 0 1 9 8 2 2 9 4 1 0 1 7 6 3 0 7 8 3 7 3\n",
            " 1 8 1 4 9 8 7 9 5 2 7 8 2 3 0 1 9 2 2 0 8 7 1 4 1 9 9 5 8 1 4 5 7 8 1 5 8\n",
            " 4 0 8 2 2 0 5 0 2 0 3 3 9 9 0 4 5 3 0 0 9 6 9 9 9 5 4 1 2 3 9 7 3 4 5 8 4\n",
            " 4 5 8 9 4 3 9 3 3 2 7 1 9 3 1 1 8 0 4 6 9 1 7 4 8 5 9 0 2 2 7 9 3 9 2 9 7\n",
            " 1 8 8 2 7 9 5 1 4 2 5 8 5 0 9 2 0 0 2 8 5 9 0 0 2 3 2 2 1 1 4 8 9 7 2 6 2\n",
            " 2 2 4 4 2 9 2 2 4 5 7 2 9 7 8 3 7 4 0 5 2 5 1 1 2 7 2 1 7 7 2 1 3 2 2 7 8\n",
            " 1 4 0 6 1 8 2 7 0 3 5 4 9 1 0 3 5 3 0 5 2 9 3 8 5 4 7 2 0 8 2 5 3 1 4 4 9\n",
            " 8 4 4 9 9 7 9 5 2 0 3 9 7 1 1 3 2 9 2 2 0 9 5 1 8 0 7 9 9 1 9 1 8 9 0 5 6\n",
            " 9 9 2 0 6 0 9 7 3 2 5 1 2 9 6 5 2 9 4 1 2 1 5 0 8 0 5 3 7 1 3 0 7 3 2 5 8\n",
            " 4 9 8 6 9 3 5 4 9 4 8 0 7 2 9 0 0 9 4 9 3 5 3 4 8 4 7 3 0 8 7 0 8 0 1 4 0\n",
            " 8 8 0 3 9 9 9 4 2 7 3 1 5 9 1 9 5 2 3 2 9 9 7 2 7 7 2 0 0 2 2 8 1 7 8 2 9\n",
            " 9 3 3 2 8 2 8 2 5 4 7 8 8 0 5 6 1 1 3 0 0 8 0 1 8 7 4 5 2 9 8 8 4 3 7 9 3\n",
            " 8 7 8 5 7 8 2 3 9 0 4 8 2 8 9 9 7 0 3 0 9 0 7 4 2 2 7 2 5 7 2 9 0 2 2 2 0\n",
            " 1 2 7 1 4 2 7 0 0 4 0 7 9 5 1 0 4 4 2 3 2 0 8 2 8 5 9 8 4 1 1 5 0 3 2 1 7\n",
            " 1 9 3 3 8 1 4 4 9 2 2 1 4 5 1 9 5 0 2 2 9 5 3 2 3 0 6 1 1 0 4 4 3 2 7 7 8\n",
            " 3 3 7 2 7 1 1 0 1 7 9 0 1 9 8 3 2 3 8 9 5 2 9 5 1 9 4 8 0 4 4 1 6 3 4 5 3\n",
            " 2 2 2 8 1 8 0 1 1 8 2 0 5 2 0 4 1 2 5 2 8 1 0 7 8 1 4 8 3 0 5 9 2 0 8 8 0\n",
            " 4 7 2 1 2 2 7 9 2 7 9 7 4 8 8 2 3 7 4 5 0 0 0 9 1 7 8 7 4 0 7 1 1 8 0 8 1\n",
            " 3] [9 1 2 7 6 3 8 3 9 2 7 3 1 8 0 5 1 2 8 4 5 2 9 2 9 4 9 2 2 3 1 8 5 0 0 3 2\n",
            " 9 8 8 5 0 8 2 8 3 8 3 5 9 1 4 6 1 7 0 4 4 8 1 0 6 3 5 7 1 0 9 6 3 6 0 5 5\n",
            " 8 5 5 1 2 0 0 2 4 8 9 5 4 0 6 6 0 1 4 8 1 5 1 4 1 1 9 6 9 5 1 1 8 1 7 2 8\n",
            " 9 0 6 5 7 6 0 3 6 9 2 1 4 0 7 8 1 6 7 1 8 1 7 0 1 9 2 8 1 2 8 6 8 3 6 6 5\n",
            " 0 4 4 7 9 4 4 2 0 1 8 6 1 3 0 0 3 2 3 0 3 2 1 4 2 7 6 4 4 9 6 4 9 6 4 2 6\n",
            " 9 8 9 3 8 4 9 0 4 8 9 5 6 6 1 8 7 7 4 1 1 7 0 7 2 9 5 0 5 1 4 0 1 8 8 7 0\n",
            " 3 2 5 2 5 0 5 9 9 5 2 8 1 0 0 3 7 3 7 8 3 0 6 3 3 9 5 7 7 8 4 7 3 0 4 1 7\n",
            " 7 7 9 0 2 6 5 2 4 3 3 8 2 6 4 2 8 1 0 9 3 5 3 2 7 3 8 4 1 6 5 9 1 4 1 4 2\n",
            " 4 7 2 5 8 1 3 4 5 8 5 9 6 6 6 6 7 8 2 7 3 1 6 1 6 5 4 0 5 3 7 3 3 9 9 8 6\n",
            " 5 0 0 4 9 2 9 4 4 5 1 3 9 0 8 8 6 3 1 9 8 4 2 9 6 3 3 1 7 6 8 0 7 8 3 7 3\n",
            " 1 8 1 4 9 8 7 9 5 2 5 8 2 3 6 1 9 4 2 0 8 5 1 6 1 9 9 5 6 1 6 5 7 8 1 5 8\n",
            " 4 0 8 0 2 0 5 0 1 8 3 0 9 9 0 2 5 3 0 3 9 0 7 9 9 5 6 1 2 3 9 7 3 6 5 8 6\n",
            " 2 5 8 7 4 2 9 1 3 2 7 1 9 3 1 1 8 0 2 6 9 1 9 2 8 5 9 0 2 2 7 9 3 9 4 7 7\n",
            " 1 8 8 2 7 9 5 3 4 2 8 8 5 6 9 6 0 6 6 8 5 9 0 6 2 3 0 4 1 1 6 8 9 7 2 0 4\n",
            " 2 6 2 4 2 5 4 8 6 7 5 2 9 7 8 0 7 6 2 5 4 5 1 1 4 7 2 0 7 7 2 1 3 2 6 7 8\n",
            " 1 4 0 4 1 8 2 7 3 3 5 6 9 1 0 3 5 0 0 5 6 9 3 8 5 4 7 2 6 8 2 5 4 1 6 6 7\n",
            " 8 4 6 9 9 7 9 5 2 0 0 9 9 1 1 3 2 9 2 6 0 9 5 1 8 0 7 9 9 1 9 1 5 9 0 5 2\n",
            " 9 7 2 0 4 0 9 7 3 6 5 1 6 9 0 5 2 9 4 1 4 1 6 0 5 0 5 3 7 1 9 6 5 3 4 5 8\n",
            " 4 9 8 4 5 3 5 4 9 6 8 1 7 6 9 0 6 9 6 9 3 9 3 4 8 4 7 0 0 8 7 0 8 0 1 4 3\n",
            " 8 8 0 0 9 7 7 4 2 5 3 1 5 7 1 9 5 6 3 4 9 9 7 2 7 5 6 0 0 4 6 8 1 7 8 2 9\n",
            " 9 3 3 6 8 2 8 6 5 2 7 8 8 0 5 4 1 1 1 0 0 8 0 1 8 7 6 5 2 5 8 8 4 6 7 9 3\n",
            " 5 7 8 5 7 8 2 3 9 0 4 8 2 8 7 9 7 3 3 1 9 3 7 6 4 2 7 2 5 7 6 9 6 2 2 4 0\n",
            " 1 2 7 1 4 2 7 4 4 4 6 7 9 5 1 4 6 2 2 4 2 6 8 4 8 7 5 8 4 1 1 5 0 3 2 1 7\n",
            " 1 9 3 8 8 1 2 6 9 6 2 1 4 5 1 9 8 0 2 2 9 5 3 2 3 0 8 1 3 0 4 2 3 2 7 7 8\n",
            " 3 3 7 2 7 1 3 0 1 5 9 0 1 9 8 0 2 3 8 9 9 4 9 5 1 9 4 8 3 6 6 1 4 3 4 5 3\n",
            " 2 2 2 8 1 8 0 1 1 8 4 0 5 6 0 2 1 2 5 2 8 1 0 7 8 1 4 8 6 0 9 9 2 6 8 8 0\n",
            " 8 7 2 1 4 2 7 9 2 7 9 7 6 8 8 4 0 7 6 5 0 4 0 9 1 7 8 7 4 3 7 3 1 8 8 4 1\n",
            " 3]\n"
          ]
        },
        {
          "output_type": "execute_result",
          "data": {
            "text/plain": [
              "0.746"
            ]
          },
          "metadata": {},
          "execution_count": 13
        }
      ]
    }
  ]
}