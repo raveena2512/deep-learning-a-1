{
  "nbformat": 4,
  "nbformat_minor": 0,
  "metadata": {
    "colab": {
      "name": "forward_prop.ipynb",
      "provenance": [],
      "collapsed_sections": []
    },
    "kernelspec": {
      "name": "python3",
      "display_name": "Python 3"
    },
    "language_info": {
      "name": "python"
    }
  },
  "cells": [
    {
      "cell_type": "code",
      "execution_count": 1,
      "metadata": {
        "id": "4SrkHLp0Ae0O"
      },
      "outputs": [],
      "source": [
        "from keras.datasets import fashion_mnist"
      ]
    },
    {
      "cell_type": "code",
      "source": [
        "# load dataset\n",
        "(trainX, trainy), (testX, testy) = fashion_mnist.load_data()\n"
      ],
      "metadata": {
        "id": "uAKE-AvjWl9N",
        "colab": {
          "base_uri": "https://localhost:8080/"
        },
        "outputId": "cdbfa1d1-83fa-428c-8004-266d017cd343"
      },
      "execution_count": 2,
      "outputs": [
        {
          "output_type": "stream",
          "name": "stdout",
          "text": [
            "Downloading data from https://storage.googleapis.com/tensorflow/tf-keras-datasets/train-labels-idx1-ubyte.gz\n",
            "32768/29515 [=================================] - 0s 0us/step\n",
            "40960/29515 [=========================================] - 0s 0us/step\n",
            "Downloading data from https://storage.googleapis.com/tensorflow/tf-keras-datasets/train-images-idx3-ubyte.gz\n",
            "26427392/26421880 [==============================] - 0s 0us/step\n",
            "26435584/26421880 [==============================] - 0s 0us/step\n",
            "Downloading data from https://storage.googleapis.com/tensorflow/tf-keras-datasets/t10k-labels-idx1-ubyte.gz\n",
            "16384/5148 [===============================================================================================] - 0s 0us/step\n",
            "Downloading data from https://storage.googleapis.com/tensorflow/tf-keras-datasets/t10k-images-idx3-ubyte.gz\n",
            "4423680/4422102 [==============================] - 0s 0us/step\n",
            "4431872/4422102 [==============================] - 0s 0us/step\n"
          ]
        }
      ]
    },
    {
      "cell_type": "code",
      "source": [
        "# summarize loaded dataset\n",
        "print('Train: X=%s, y=%s' % (trainX.shape, trainy.shape))\n",
        "print('Test: X=%s, y=%s' % (testX.shape, testy.shape))"
      ],
      "metadata": {
        "colab": {
          "base_uri": "https://localhost:8080/"
        },
        "id": "0TSVL8UBXpA_",
        "outputId": "4e6a7667-8dfd-4449-89be-4f22cb57bcfb"
      },
      "execution_count": 3,
      "outputs": [
        {
          "output_type": "stream",
          "name": "stdout",
          "text": [
            "Train: X=(60000, 28, 28), y=(60000,)\n",
            "Test: X=(10000, 28, 28), y=(10000,)\n"
          ]
        }
      ]
    },
    {
      "cell_type": "code",
      "source": [
        "X_train=trainX.reshape(trainX.shape[0],28*28).T\n",
        "X_train=X_train/255"
      ],
      "metadata": {
        "id": "xpWGPdQRP-MZ"
      },
      "execution_count": 33,
      "outputs": []
    },
    {
      "cell_type": "code",
      "source": [
        "X_train.shape"
      ],
      "metadata": {
        "colab": {
          "base_uri": "https://localhost:8080/"
        },
        "id": "o5eqv9TbQQRW",
        "outputId": "eec3de4a-38b2-402f-e844-465a0df05f14"
      },
      "execution_count": 34,
      "outputs": [
        {
          "output_type": "execute_result",
          "data": {
            "text/plain": [
              "(784, 60000)"
            ]
          },
          "metadata": {},
          "execution_count": 34
        }
      ]
    },
    {
      "cell_type": "code",
      "source": [
        "import numpy as np\n",
        "a=np.array([10,20,30])\n",
        "b=np.array([10,30,40])\n",
        "a*b"
      ],
      "metadata": {
        "colab": {
          "base_uri": "https://localhost:8080/"
        },
        "id": "hCGnE8G2XR0A",
        "outputId": "c1f62f9f-db48-4507-bd3e-0bf30c2c4988"
      },
      "execution_count": 4,
      "outputs": [
        {
          "output_type": "execute_result",
          "data": {
            "text/plain": [
              "array([ 100,  600, 1200])"
            ]
          },
          "metadata": {},
          "execution_count": 4
        }
      ]
    },
    {
      "cell_type": "code",
      "source": [
        "#num of layers including ip layer \n",
        "num_layers=int(input(\"No. of layers: \"))\n",
        "#enter space sep no of neuron in each layer 1st entry is 784 and last should be 10\n",
        "layer_neurons=[int(x) for x in input().split()]\n",
        "\n",
        "assert layer_neurons[0]==784\n",
        "assert layer_neurons[-1]==10\n",
        "\n"
      ],
      "metadata": {
        "colab": {
          "base_uri": "https://localhost:8080/"
        },
        "id": "POsNOk7PBn3Z",
        "outputId": "19a3e159-6fae-40de-abb1-6493a775b056"
      },
      "execution_count": 5,
      "outputs": [
        {
          "name": "stdout",
          "output_type": "stream",
          "text": [
            "No. of layers: 6\n",
            "784 3 5 4 2 10\n"
          ]
        }
      ]
    },
    {
      "cell_type": "code",
      "source": [
        "def Weight_init(op,ip):\n",
        "  return np.random.randn(op,ip)\n"
      ],
      "metadata": {
        "id": "Z7Qx1_YRDnsv"
      },
      "execution_count": 6,
      "outputs": []
    },
    {
      "cell_type": "code",
      "source": [
        "def Neuralnet_init(layer_neurons,num_layers):\n",
        "        W = {}\n",
        "        b = {}\n",
        "        for i in range(0, num_layers - 1):\n",
        "            W[i + 1] = Weight_init(layer_neurons[i + 1], layer_neurons[i])\n",
        "            b[i + 1] = np.zeros((layer_neurons[i + 1], 1))\n",
        "        return W,b"
      ],
      "metadata": {
        "id": "g0jfK4Nz8WSc"
      },
      "execution_count": 7,
      "outputs": []
    },
    {
      "cell_type": "code",
      "source": [
        "W,b=Neuralnet_init(layer_neurons,num_layers)\n",
        "print(W)"
      ],
      "metadata": {
        "colab": {
          "base_uri": "https://localhost:8080/"
        },
        "id": "7IeUdqs8BYVX",
        "outputId": "951b9201-2641-4ddc-8a3b-1828d0fb2ed1"
      },
      "execution_count": 35,
      "outputs": [
        {
          "output_type": "stream",
          "name": "stdout",
          "text": [
            "{1: array([[ 0.85612392, -1.03242826,  2.3365149 , ...,  0.09284945,\n",
            "         0.36987878, -0.11253304],\n",
            "       [ 1.06791053, -0.84925224,  0.0938871 , ...,  0.68255356,\n",
            "        -1.86499304,  0.52445648],\n",
            "       [ 1.02197586,  0.16276927, -0.78093541, ..., -0.77104996,\n",
            "        -1.27875796,  0.60799908]]), 2: array([[-0.48510836, -1.63746124,  1.07501511],\n",
            "       [ 1.07994628,  0.49017584, -0.20398836],\n",
            "       [ 1.62680405,  0.37625328, -1.12385396],\n",
            "       [ 2.37305511, -1.50952518, -1.78303358],\n",
            "       [ 1.26781294, -0.14783591,  0.50582994]]), 3: array([[-0.1287995 , -0.85971128, -1.74362567, -0.31292612, -1.87813028],\n",
            "       [ 0.86488902, -0.18772401, -0.22197332, -0.93028761,  0.66664803],\n",
            "       [-0.53661906, -0.18957412, -0.01811235,  1.79783836,  1.08774668],\n",
            "       [ 1.42767407,  0.42598048,  0.46476386, -0.77678265,  1.4748399 ]]), 4: array([[ 0.22440229,  0.82740786, -0.1053553 , -1.23050888],\n",
            "       [-1.40548616, -0.3851634 , -0.53961319,  0.24880351]]), 5: array([[ 0.09740424,  0.69306301],\n",
            "       [-0.448243  ,  0.10323556],\n",
            "       [-0.46468972,  0.23218891],\n",
            "       [ 0.21519269,  0.16196395],\n",
            "       [-1.46826714, -1.8299216 ],\n",
            "       [-1.03866369, -0.40362213],\n",
            "       [ 1.01550756,  1.93789739],\n",
            "       [ 0.57438227,  0.79422599],\n",
            "       [ 0.11056393,  1.10804615],\n",
            "       [ 0.0029043 ,  1.04288285]])}\n"
          ]
        }
      ]
    },
    {
      "cell_type": "code",
      "source": [
        "W[1].shape"
      ],
      "metadata": {
        "colab": {
          "base_uri": "https://localhost:8080/"
        },
        "id": "wMZ5lFTJtShM",
        "outputId": "7ca935b5-e41d-4b40-cc04-2fa7b54cca1f"
      },
      "execution_count": 9,
      "outputs": [
        {
          "output_type": "execute_result",
          "data": {
            "text/plain": [
              "(3, 784)"
            ]
          },
          "metadata": {},
          "execution_count": 9
        }
      ]
    },
    {
      "cell_type": "code",
      "source": [
        "def sigmoid(z):\n",
        "  return 1/1+np.exp(-(z))\n"
      ],
      "metadata": {
        "id": "1qN16xcXh7Ii"
      },
      "execution_count": 16,
      "outputs": []
    },
    {
      "cell_type": "code",
      "source": [
        ""
      ],
      "metadata": {
        "id": "O9id1lUaiX5r"
      },
      "execution_count": null,
      "outputs": []
    },
    {
      "cell_type": "code",
      "source": [
        "def F_Prop(X_train, W, b,num_layers):\n",
        "        \"\"\"\n",
        "        Forward Propogation\n",
        "         \n",
        "        \"\"\"\n",
        "        \n",
        "        # A - Preactivations\n",
        "        # H - Activations\n",
        "        X = X_train[:,0]\n",
        "        A = {}\n",
        "        H={}\n",
        "        H[0] = X\n",
        "        #A[0] = X\n",
        "        for l in range(0, num_layers - 2):\n",
        "                Wh = W[l + 1]\n",
        "                bh = b[l + 1]\n",
        "                A[l + 1] = np.add(np.matmul(Wh, H[l]), bh)\n",
        "                print(A[l+1])\n",
        "                H[l + 1] = sigmoid(A[l + 1])\n",
        "            \n",
        "\n",
        "      \n",
        "        Wo = W[num_layers-1]\n",
        "        bo = b[num_layers - 1]\n",
        "        A[num_layers - 1] = np.add(np.dot(Wo, H[num_layers - 2]), bo)\n",
        "\n",
        "        Ypred = sigmoid(A[num_layers - 1])\n",
        "        H[num_layers - 1] = Ypred\n",
        "        return Ypred, H, A"
      ],
      "metadata": {
        "id": "2uTrNRHaXjJu"
      },
      "execution_count": 36,
      "outputs": []
    },
    {
      "cell_type": "code",
      "source": [
        "ypred,h,a= F_Prop(X_train, W, b,num_layers)"
      ],
      "metadata": {
        "id": "tZscIBuccZ15",
        "colab": {
          "base_uri": "https://localhost:8080/"
        },
        "outputId": "fa742fea-22aa-444c-f3fd-c007052a7f37"
      },
      "execution_count": 37,
      "outputs": [
        {
          "output_type": "stream",
          "name": "stdout",
          "text": [
            "[[-25.80965421  16.03183195  10.50479216]\n",
            " [-25.80965421  16.03183195  10.50479216]\n",
            " [-25.80965421  16.03183195  10.50479216]]\n",
            "[[-1.69498955e+11 -1.04755461e+00 -1.04758320e+00]\n",
            " [ 2.21046491e+11  1.36613391e+00  1.36617120e+00]\n",
            " [ 1.42258998e+11  8.79203465e-01  8.79227464e-01]\n",
            " [-1.48779761e+11 -9.19503742e-01 -9.19528841e-01]\n",
            " [ 2.63062766e+11  1.62580715e+00  1.62585153e+00]]\n",
            "[[       -inf -7.38782553 -7.38781379]\n",
            " [        nan  0.31499704  0.31500715]\n",
            " [        nan  5.27875495  5.27881687]\n",
            " [        nan  5.72987185  5.72991776]]\n",
            "[[           nan   362.99152283   362.98725594]\n",
            " [           nan -2273.8942716  -2273.86758097]]\n"
          ]
        },
        {
          "output_type": "stream",
          "name": "stderr",
          "text": [
            "/usr/local/lib/python3.7/dist-packages/ipykernel_launcher.py:2: RuntimeWarning: overflow encountered in exp\n",
            "  \n",
            "/usr/local/lib/python3.7/dist-packages/ipykernel_launcher.py:17: RuntimeWarning: invalid value encountered in matmul\n"
          ]
        }
      ]
    },
    {
      "cell_type": "code",
      "source": [
        "h\n",
        "a"
      ],
      "metadata": {
        "colab": {
          "base_uri": "https://localhost:8080/"
        },
        "id": "tX7U4BMWQfIS",
        "outputId": "237b12dc-f39c-479c-a7d4-ea0e1ded1ab8"
      },
      "execution_count": 38,
      "outputs": [
        {
          "output_type": "execute_result",
          "data": {
            "text/plain": [
              "{1: array([[-25.80965421,  16.03183195,  10.50479216],\n",
              "        [-25.80965421,  16.03183195,  10.50479216],\n",
              "        [-25.80965421,  16.03183195,  10.50479216]]),\n",
              " 2: array([[-1.69498955e+11, -1.04755461e+00, -1.04758320e+00],\n",
              "        [ 2.21046491e+11,  1.36613391e+00,  1.36617120e+00],\n",
              "        [ 1.42258998e+11,  8.79203465e-01,  8.79227464e-01],\n",
              "        [-1.48779761e+11, -9.19503742e-01, -9.19528841e-01],\n",
              "        [ 2.63062766e+11,  1.62580715e+00,  1.62585153e+00]]),\n",
              " 3: array([[       -inf, -7.38782553, -7.38781379],\n",
              "        [        nan,  0.31499704,  0.31500715],\n",
              "        [        nan,  5.27875495,  5.27881687],\n",
              "        [        nan,  5.72987185,  5.72991776]]),\n",
              " 4: array([[           nan,   362.99152283,   362.98725594],\n",
              "        [           nan, -2273.8942716 , -2273.86758097]]),\n",
              " 5: array([[ nan,  inf,  inf],\n",
              "        [ nan,  inf,  inf],\n",
              "        [ nan,  inf,  inf],\n",
              "        [ nan,  inf,  inf],\n",
              "        [ nan, -inf, -inf],\n",
              "        [ nan, -inf, -inf],\n",
              "        [ nan,  inf,  inf],\n",
              "        [ nan,  inf,  inf],\n",
              "        [ nan,  inf,  inf],\n",
              "        [ nan,  inf,  inf]])}"
            ]
          },
          "metadata": {},
          "execution_count": 38
        }
      ]
    },
    {
      "cell_type": "code",
      "source": [
        "h"
      ],
      "metadata": {
        "colab": {
          "base_uri": "https://localhost:8080/"
        },
        "id": "Dqd_MwccSHU3",
        "outputId": "79357ede-5861-4557-8cb7-67c024ca9eac"
      },
      "execution_count": 32,
      "outputs": [
        {
          "output_type": "execute_result",
          "data": {
            "text/plain": [
              "{0: array([  0,   0,   0,   0,   0,   0,   0,   0,   0,   0,   0,   0,   0,\n",
              "          0,   0,   0,   0,   0,   0,   0,   0,   0,   0,   0,   0,   0,\n",
              "          0,   0,   0,   0,   0,   0,   0,   0,   0,   0,   0,   0,   0,\n",
              "          0,   0,   0,   0,   0,   0,   0,   0,   0,   0,   0,   0,   0,\n",
              "          0,   0,   0,   0,   0,   0,   0,   0,   0,   0,   0,   0,   0,\n",
              "          0,   0,   0,   0,   0,   0,   0,   0,   0,   0,   0,   0,   0,\n",
              "          0,   0,   0,   0,   0,   0,   0,   0,   0,   0,   0,   0,   0,\n",
              "          0,   0,   0,   0,   0,   1,   0,   0,  13,  73,   0,   0,   1,\n",
              "          4,   0,   0,   0,   0,   1,   1,   0,   0,   0,   0,   0,   0,\n",
              "          0,   0,   0,   0,   0,   0,   0,   3,   0,  36, 136, 127,  62,\n",
              "         54,   0,   0,   0,   1,   3,   4,   0,   0,   3,   0,   0,   0,\n",
              "          0,   0,   0,   0,   0,   0,   0,   0,   0,   6,   0, 102, 204,\n",
              "        176, 134, 144, 123,  23,   0,   0,   0,   0,  12,  10,   0,   0,\n",
              "          0,   0,   0,   0,   0,   0,   0,   0,   0,   0,   0,   0,   0,\n",
              "        155, 236, 207, 178, 107, 156, 161, 109,  64,  23,  77, 130,  72,\n",
              "         15,   0,   0,   0,   0,   0,   0,   0,   0,   0,   0,   0,   1,\n",
              "          0,  69, 207, 223, 218, 216, 216, 163, 127, 121, 122, 146, 141,\n",
              "         88, 172,  66,   0,   0,   0,   0,   0,   0,   0,   0,   0,   1,\n",
              "          1,   1,   0, 200, 232, 232, 233, 229, 223, 223, 215, 213, 164,\n",
              "        127, 123, 196, 229,   0,   0,   0,   0,   0,   0,   0,   0,   0,\n",
              "          0,   0,   0,   0,   0, 183, 225, 216, 223, 228, 235, 227, 224,\n",
              "        222, 224, 221, 223, 245, 173,   0,   0,   0,   0,   0,   0,   0,\n",
              "          0,   0,   0,   0,   0,   0,   0, 193, 228, 218, 213, 198, 180,\n",
              "        212, 210, 211, 213, 223, 220, 243, 202,   0,   0,   0,   0,   0,\n",
              "          0,   0,   0,   0,   0,   1,   3,   0,  12, 219, 220, 212, 218,\n",
              "        192, 169, 227, 208, 218, 224, 212, 226, 197, 209,  52,   0,   0,\n",
              "          0,   0,   0,   0,   0,   0,   0,   0,   6,   0,  99, 244, 222,\n",
              "        220, 218, 203, 198, 221, 215, 213, 222, 220, 245, 119, 167,  56,\n",
              "          0,   0,   0,   0,   0,   0,   0,   0,   0,   4,   0,   0,  55,\n",
              "        236, 228, 230, 228, 240, 232, 213, 218, 223, 234, 217, 217, 209,\n",
              "         92,   0,   0,   0,   1,   4,   6,   7,   2,   0,   0,   0,   0,\n",
              "          0, 237, 226, 217, 223, 222, 219, 222, 221, 216, 223, 229, 215,\n",
              "        218, 255,  77,   0,   0,   3,   0,   0,   0,   0,   0,   0,   0,\n",
              "         62, 145, 204, 228, 207, 213, 221, 218, 208, 211, 218, 224, 223,\n",
              "        219, 215, 224, 244, 159,   0,   0,   0,   0,   0,  18,  44,  82,\n",
              "        107, 189, 228, 220, 222, 217, 226, 200, 205, 211, 230, 224, 234,\n",
              "        176, 188, 250, 248, 233, 238, 215,   0,   0,  57, 187, 208, 224,\n",
              "        221, 224, 208, 204, 214, 208, 209, 200, 159, 245, 193, 206, 223,\n",
              "        255, 255, 221, 234, 221, 211, 220, 232, 246,   0,   3, 202, 228,\n",
              "        224, 221, 211, 211, 214, 205, 205, 205, 220, 240,  80, 150, 255,\n",
              "        229, 221, 188, 154, 191, 210, 204, 209, 222, 228, 225,   0,  98,\n",
              "        233, 198, 210, 222, 229, 229, 234, 249, 220, 194, 215, 217, 241,\n",
              "         65,  73, 106, 117, 168, 219, 221, 215, 217, 223, 223, 224, 229,\n",
              "         29,  75, 204, 212, 204, 193, 205, 211, 225, 216, 185, 197, 206,\n",
              "        198, 213, 240, 195, 227, 245, 239, 223, 218, 212, 209, 222, 220,\n",
              "        221, 230,  67,  48, 203, 183, 194, 213, 197, 185, 190, 194, 192,\n",
              "        202, 214, 219, 221, 220, 236, 225, 216, 199, 206, 186, 181, 177,\n",
              "        172, 181, 205, 206, 115,   0, 122, 219, 193, 179, 171, 183, 196,\n",
              "        204, 210, 213, 207, 211, 210, 200, 196, 194, 191, 195, 191, 198,\n",
              "        192, 176, 156, 167, 177, 210,  92,   0,   0,  74, 189, 212, 191,\n",
              "        175, 172, 175, 181, 185, 188, 189, 188, 193, 198, 204, 209, 210,\n",
              "        210, 211, 188, 188, 194, 192, 216, 170,   0,   2,   0,   0,   0,\n",
              "         66, 200, 222, 237, 239, 242, 246, 243, 244, 221, 220, 193, 191,\n",
              "        179, 182, 182, 181, 176, 166, 168,  99,  58,   0,   0,   0,   0,\n",
              "          0,   0,   0,   0,   0,  40,  61,  44,  72,  41,  35,   0,   0,\n",
              "          0,   0,   0,   0,   0,   0,   0,   0,   0,   0,   0,   0,   0,\n",
              "          0,   0,   0,   0,   0,   0,   0,   0,   0,   0,   0,   0,   0,\n",
              "          0,   0,   0,   0,   0,   0,   0,   0,   0,   0,   0,   0,   0,\n",
              "          0,   0,   0,   0,   0,   0,   0,   0,   0,   0,   0,   0,   0,\n",
              "          0,   0,   0,   0,   0,   0,   0,   0,   0,   0,   0,   0,   0,\n",
              "          0,   0,   0,   0], dtype=uint8), 1: array([[inf, inf, inf],\n",
              "        [inf, inf, inf],\n",
              "        [inf, inf, inf]]), 2: array([[ 1.,  1.,  1.],\n",
              "        [nan, nan, nan],\n",
              "        [nan, nan, nan],\n",
              "        [nan, nan, nan],\n",
              "        [nan, nan, nan]]), 3: array([[nan, nan, nan],\n",
              "        [nan, nan, nan],\n",
              "        [nan, nan, nan],\n",
              "        [nan, nan, nan]]), 4: array([[nan, nan, nan],\n",
              "        [nan, nan, nan]]), 5: array([[nan, nan, nan],\n",
              "        [nan, nan, nan],\n",
              "        [nan, nan, nan],\n",
              "        [nan, nan, nan],\n",
              "        [nan, nan, nan],\n",
              "        [nan, nan, nan],\n",
              "        [nan, nan, nan],\n",
              "        [nan, nan, nan],\n",
              "        [nan, nan, nan],\n",
              "        [nan, nan, nan]])}"
            ]
          },
          "metadata": {},
          "execution_count": 32
        }
      ]
    },
    {
      "cell_type": "code",
      "source": [
        "ypred"
      ],
      "metadata": {
        "colab": {
          "base_uri": "https://localhost:8080/"
        },
        "id": "cNk5DWnLRUEd",
        "outputId": "86fc5c69-b4a9-48b8-f380-5cb7b0afa720"
      },
      "execution_count": 23,
      "outputs": [
        {
          "output_type": "execute_result",
          "data": {
            "text/plain": [
              "array([[nan, nan, nan, ..., nan, nan, nan],\n",
              "       [nan, nan, nan, ..., nan, nan, nan],\n",
              "       [nan, nan, nan, ..., nan, nan, nan],\n",
              "       ...,\n",
              "       [nan, nan, nan, ..., nan, nan, nan],\n",
              "       [nan, nan, nan, ..., nan, nan, nan],\n",
              "       [nan, nan, nan, ..., nan, nan, nan]])"
            ]
          },
          "metadata": {},
          "execution_count": 23
        }
      ]
    }
  ]
}